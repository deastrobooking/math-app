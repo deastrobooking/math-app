{
  "cells": [
    {
      "cell_type": "markdown",
      "metadata": {
        "id": "view-in-github",
        "colab_type": "text"
      },
      "source": [
        "<a href=\"https://colab.research.google.com/github/deastrobooking/math-app/blob/master/math1.ipynb\" target=\"_parent\"><img src=\"https://colab.research.google.com/assets/colab-badge.svg\" alt=\"Open In Colab\"/></a>"
      ]
    },
    {
      "cell_type": "code",
      "execution_count": null,
      "metadata": {
        "id": "AY1xv-wp2DQC"
      },
      "outputs": [],
      "source": [
        "import sympy as smp\n",
        "from sympy import *"
      ]
    },
    {
      "cell_type": "code",
      "execution_count": null,
      "metadata": {
        "id": "6wEAgx_u2DQD"
      },
      "outputs": [],
      "source": [
        "x, y = smp.symbols('x y')"
      ]
    },
    {
      "cell_type": "markdown",
      "metadata": {
        "id": "ftx30Gdg2DQE"
      },
      "source": [
        "# Limits"
      ]
    },
    {
      "cell_type": "markdown",
      "metadata": {
        "id": "5C1bK_k02DQE"
      },
      "source": [
        "$$\\lim_{x \\to \\pi} \\sin(x/2+ \\sin(x))$$"
      ]
    },
    {
      "cell_type": "code",
      "execution_count": null,
      "metadata": {
        "id": "orGh9Bxr2DQE",
        "outputId": "a7cfc551-2935-4c26-8cdd-a19b25f2ec69"
      },
      "outputs": [
        {
          "data": {
            "text/latex": [
              "$\\displaystyle 1$"
            ],
            "text/plain": [
              "1"
            ]
          },
          "execution_count": 20,
          "metadata": {},
          "output_type": "execute_result"
        }
      ],
      "source": [
        "smp.limit(smp.sin(x/2 + smp.sin(x)), x, smp.pi)"
      ]
    },
    {
      "cell_type": "markdown",
      "metadata": {
        "id": "1Q0RLa0c2DQF"
      },
      "source": [
        "$$ \\lim_{x \\to 0^+} \\frac{2e^{1/x}}{e^{1/x}+1} $$"
      ]
    },
    {
      "cell_type": "code",
      "execution_count": null,
      "metadata": {
        "id": "s_qPIiEL2DQF",
        "outputId": "4586e9aa-2b80-4d17-e423-671b45a4d3d6"
      },
      "outputs": [
        {
          "data": {
            "text/latex": [
              "$\\displaystyle 2$"
            ],
            "text/plain": [
              "2"
            ]
          },
          "execution_count": 22,
          "metadata": {},
          "output_type": "execute_result"
        }
      ],
      "source": [
        "smp.limit(2*smp.exp(1/x) / (smp.exp(1/x)+1), x, 0, dir='+')"
      ]
    },
    {
      "cell_type": "markdown",
      "metadata": {
        "id": "hLxDI01n2DQF"
      },
      "source": [
        "$$ \\lim_{x \\to 0^-} \\frac{2e^{1/x}}{e^{1/x}+1} $$"
      ]
    },
    {
      "cell_type": "code",
      "execution_count": null,
      "metadata": {
        "id": "DZwML58n2DQF",
        "outputId": "cdb8f8f9-6d7a-40c0-beb3-f0a90d0ab0f9"
      },
      "outputs": [
        {
          "data": {
            "text/latex": [
              "$\\displaystyle 0$"
            ],
            "text/plain": [
              "0"
            ]
          },
          "execution_count": 23,
          "metadata": {},
          "output_type": "execute_result"
        }
      ],
      "source": [
        "smp.limit(2*smp.exp(1/x) / (smp.exp(1/x)+1), x, 0, dir='-')"
      ]
    },
    {
      "cell_type": "markdown",
      "metadata": {
        "id": "BWaIc8af2DQF"
      },
      "source": [
        "$$ \\lim_{x \\to \\infty} \\frac{\\cos(x)-1}{x} $$"
      ]
    },
    {
      "cell_type": "code",
      "execution_count": null,
      "metadata": {
        "id": "WuX3ftJt2DQG",
        "outputId": "ac5be5ac-05e9-4d3e-eb96-0a1a65bbbe89"
      },
      "outputs": [
        {
          "data": {
            "text/latex": [
              "$\\displaystyle 0$"
            ],
            "text/plain": [
              "0"
            ]
          },
          "execution_count": 25,
          "metadata": {},
          "output_type": "execute_result"
        }
      ],
      "source": [
        "smp.limit((smp.cos(x) - 1)/x, x, smp.oo)"
      ]
    },
    {
      "cell_type": "markdown",
      "metadata": {
        "id": "j75lYBka2DQG"
      },
      "source": [
        "# Derivatives"
      ]
    },
    {
      "cell_type": "markdown",
      "metadata": {
        "id": "R7iNSzF22DQG"
      },
      "source": [
        "$$ \\frac{d}{dx} \\left( \\frac{1+\\sin x}{1 - \\cos x} \\right)^2 $$"
      ]
    },
    {
      "cell_type": "code",
      "execution_count": null,
      "metadata": {
        "id": "K38Z2Pfu2DQG",
        "outputId": "b2e4e057-e375-4255-ec3f-1750f857e86f"
      },
      "outputs": [
        {
          "data": {
            "text/latex": [
              "$\\displaystyle \\frac{2 \\left(\\sin{\\left(x \\right)} + 1\\right) \\cos{\\left(x \\right)}}{\\left(1 - \\cos{\\left(x \\right)}\\right)^{2}} - \\frac{2 \\left(\\sin{\\left(x \\right)} + 1\\right)^{2} \\sin{\\left(x \\right)}}{\\left(1 - \\cos{\\left(x \\right)}\\right)^{3}}$"
            ],
            "text/plain": [
              "2*(sin(x) + 1)*cos(x)/(1 - cos(x))**2 - 2*(sin(x) + 1)**2*sin(x)/(1 - cos(x))**3"
            ]
          },
          "execution_count": 30,
          "metadata": {},
          "output_type": "execute_result"
        }
      ],
      "source": [
        "smp.diff(((1 + smp.sin(x)) / (1 - smp.cos(x)))**2, x)"
      ]
    },
    {
      "cell_type": "markdown",
      "metadata": {
        "id": "gOR23TQd2DQG"
      },
      "source": [
        "$$ \\frac{d}{dx} (\\log_5 (x))^{x/2}$$"
      ]
    },
    {
      "cell_type": "code",
      "execution_count": null,
      "metadata": {
        "id": "miM8GQET2DQG",
        "outputId": "0080f816-81c0-454b-848f-24db3071c709"
      },
      "outputs": [
        {
          "data": {
            "text/latex": [
              "$\\displaystyle \\left(\\frac{\\log{\\left(x \\right)}}{\\log{\\left(5 \\right)}}\\right)^{\\frac{x}{2}} \\left(\\frac{\\log{\\left(\\frac{\\log{\\left(x \\right)}}{\\log{\\left(5 \\right)}} \\right)}}{2} + \\frac{1}{2 \\log{\\left(x \\right)}}\\right)$"
            ],
            "text/plain": [
              "(log(x)/log(5))**(x/2)*(log(log(x)/log(5))/2 + 1/(2*log(x)))"
            ]
          },
          "execution_count": 33,
          "metadata": {},
          "output_type": "execute_result"
        }
      ],
      "source": [
        "smp.diff(smp.log(x, 5)**(x/2), x)"
      ]
    },
    {
      "cell_type": "markdown",
      "metadata": {
        "id": "bhLvZNO_2DQG"
      },
      "source": [
        "$$\\frac{d}{dx} f(x+g(x)) $$"
      ]
    },
    {
      "cell_type": "code",
      "execution_count": null,
      "metadata": {
        "id": "GbMgfUCa2DQG"
      },
      "outputs": [],
      "source": [
        "f, g = smp.symbols('f g', cls=smp.Function)\n",
        "g = g(x)\n",
        "f = f(x+g)"
      ]
    },
    {
      "cell_type": "code",
      "execution_count": null,
      "metadata": {
        "id": "eUuxYyga2DQH",
        "outputId": "639c2b39-478d-465b-d30c-90a5560ec3ce"
      },
      "outputs": [
        {
          "data": {
            "text/latex": [
              "$\\displaystyle \\left(\\frac{d}{d x} g{\\left(x \\right)} + 1\\right) \\left. \\frac{d}{d \\xi_{1}} f{\\left(\\xi_{1} \\right)} \\right|_{\\substack{ \\xi_{1}=x + g{\\left(x \\right)} }}$"
            ],
            "text/plain": [
              "(Derivative(g(x), x) + 1)*Subs(Derivative(f(_xi_1), _xi_1), _xi_1, x + g(x))"
            ]
          },
          "execution_count": 36,
          "metadata": {},
          "output_type": "execute_result"
        }
      ],
      "source": [
        "smp.diff(f,x)"
      ]
    },
    {
      "cell_type": "markdown",
      "metadata": {
        "id": "ocaT0mj72DQH"
      },
      "source": [
        "# Basic Antiderivatives"
      ]
    },
    {
      "cell_type": "markdown",
      "metadata": {
        "id": "pdIiuOLV2DQH"
      },
      "source": [
        "$$ \\int \\csc(x) \\cot (x)  dx $$"
      ]
    },
    {
      "cell_type": "code",
      "execution_count": null,
      "metadata": {
        "id": "basdzcFQ2DQH",
        "outputId": "f4cebc42-986e-4df3-df6b-49a2229e16f7"
      },
      "outputs": [
        {
          "data": {
            "text/latex": [
              "$\\displaystyle - \\frac{1}{\\sin{\\left(x \\right)}}$"
            ],
            "text/plain": [
              "-1/sin(x)"
            ]
          },
          "execution_count": 37,
          "metadata": {},
          "output_type": "execute_result"
        }
      ],
      "source": [
        "smp.integrate(smp.csc(x)*smp.cot(x), x)"
      ]
    },
    {
      "cell_type": "markdown",
      "metadata": {
        "id": "W5GeF2-t2DQH"
      },
      "source": [
        "$$ \\int 4 \\sec (3x) \\tan(3x)dx $$"
      ]
    },
    {
      "cell_type": "code",
      "execution_count": null,
      "metadata": {
        "id": "VxiprA6w2DQH",
        "outputId": "9c28281c-39a9-453d-c867-c288d83b2705"
      },
      "outputs": [
        {
          "data": {
            "text/latex": [
              "$\\displaystyle \\frac{4}{3 \\cos{\\left(3 x \\right)}}$"
            ],
            "text/plain": [
              "4/(3*cos(3*x))"
            ]
          },
          "execution_count": 38,
          "metadata": {},
          "output_type": "execute_result"
        }
      ],
      "source": [
        "smp.integrate(4*smp.sec(3*x)*smp.tan(3*x), x)"
      ]
    },
    {
      "cell_type": "markdown",
      "metadata": {
        "id": "3aDA4Oj82DQH"
      },
      "source": [
        "$$ \\int \\left( \\frac{2}{\\sqrt{1-x^2}} - \\frac{1}{x^{1/4}}\\right) dx$$"
      ]
    },
    {
      "cell_type": "code",
      "execution_count": null,
      "metadata": {
        "id": "XXWzhetw2DQH",
        "outputId": "9ef66fb1-9cec-49a8-d948-6ace8b87a9db"
      },
      "outputs": [
        {
          "data": {
            "text/latex": [
              "$\\displaystyle - \\frac{4 x^{\\frac{3}{4}}}{3} + 2 \\operatorname{asin}{\\left(x \\right)}$"
            ],
            "text/plain": [
              "-4*x**(3/4)/3 + 2*asin(x)"
            ]
          },
          "execution_count": 40,
          "metadata": {},
          "output_type": "execute_result"
        }
      ],
      "source": [
        "smp.integrate(2/smp.sqrt(1-x**2) - 1/x**smp.Rational(1,4), x)"
      ]
    },
    {
      "cell_type": "markdown",
      "metadata": {
        "id": "Cwi6LTu02DQH"
      },
      "source": [
        "# Initial Value Problems"
      ]
    },
    {
      "cell_type": "markdown",
      "metadata": {
        "id": "xQnMWGCD2DQI"
      },
      "source": [
        "1. Given $\\frac{dy}{dx} = 8x + \\csc^2(x)$ with $y(\\pi/2) = -7$  solve for $y(x)$"
      ]
    },
    {
      "cell_type": "code",
      "execution_count": null,
      "metadata": {
        "id": "JKSmrARR2DQI"
      },
      "outputs": [],
      "source": [
        "integral = smp.integrate(8*x + smp.csc(x)**2, x)"
      ]
    },
    {
      "cell_type": "code",
      "execution_count": null,
      "metadata": {
        "id": "1KVjuQYI2DQI"
      },
      "outputs": [],
      "source": [
        "C = - integral.subs(x, smp.pi/2) - 7\n",
        "y = integral + C"
      ]
    },
    {
      "cell_type": "code",
      "execution_count": null,
      "metadata": {
        "id": "Pdt4fGCR2DQI",
        "outputId": "53fa411c-e75a-4055-ec04-ddabe82a2f78"
      },
      "outputs": [
        {
          "data": {
            "text/latex": [
              "$\\displaystyle -7$"
            ],
            "text/plain": [
              "-7"
            ]
          },
          "execution_count": 47,
          "metadata": {},
          "output_type": "execute_result"
        }
      ],
      "source": [
        "y.subs(x, smp.pi/2)"
      ]
    },
    {
      "cell_type": "code",
      "execution_count": null,
      "metadata": {
        "id": "Fh_SmTjs2DQI",
        "outputId": "d521f995-fdf6-4109-e23a-3ed583dc333f"
      },
      "outputs": [
        {
          "data": {
            "text/latex": [
              "$\\displaystyle 4 x^{2} - \\pi^{2} - 7 - \\frac{\\cos{\\left(x \\right)}}{\\sin{\\left(x \\right)}}$"
            ],
            "text/plain": [
              "4*x**2 - pi**2 - 7 - cos(x)/sin(x)"
            ]
          },
          "execution_count": 48,
          "metadata": {},
          "output_type": "execute_result"
        }
      ],
      "source": [
        "y"
      ]
    },
    {
      "cell_type": "markdown",
      "metadata": {
        "id": "dbSpbP0h2DQI"
      },
      "source": [
        "# More Complicated Expressions"
      ]
    },
    {
      "cell_type": "markdown",
      "metadata": {
        "id": "8AXR5Xx92DQI"
      },
      "source": [
        " $$\\int \\frac{(1+\\sqrt{x})^{1/3}}{\\sqrt{x}} dx$$"
      ]
    },
    {
      "cell_type": "code",
      "execution_count": null,
      "metadata": {
        "id": "hVvWMsIs2DQI",
        "outputId": "3acb91a3-270c-458a-c9a6-4119aa628b44"
      },
      "outputs": [
        {
          "data": {
            "text/latex": [
              "$\\displaystyle \\frac{3 \\sqrt{x} \\sqrt[3]{\\sqrt{x} + 1}}{2} + \\frac{3 \\sqrt[3]{\\sqrt{x} + 1}}{2}$"
            ],
            "text/plain": [
              "3*sqrt(x)*(sqrt(x) + 1)**(1/3)/2 + 3*(sqrt(x) + 1)**(1/3)/2"
            ]
          },
          "execution_count": 50,
          "metadata": {},
          "output_type": "execute_result"
        }
      ],
      "source": [
        "smp.integrate((1+smp.sqrt(x))**smp.Rational(1,3) / smp.sqrt(x), x)"
      ]
    },
    {
      "cell_type": "markdown",
      "metadata": {
        "id": "yG_rXHfm2DQI"
      },
      "source": [
        "$$\\int x (1-x^2)^{1/4} dx$$"
      ]
    },
    {
      "cell_type": "code",
      "execution_count": null,
      "metadata": {
        "id": "2DgRk2142DQI",
        "outputId": "3a2d6896-a89f-4d54-a2dc-77a819f06c61"
      },
      "outputs": [
        {
          "data": {
            "text/latex": [
              "$\\displaystyle \\frac{2 x^{2} \\sqrt[4]{1 - x^{2}}}{5} - \\frac{2 \\sqrt[4]{1 - x^{2}}}{5}$"
            ],
            "text/plain": [
              "2*x**2*(1 - x**2)**(1/4)/5 - 2*(1 - x**2)**(1/4)/5"
            ]
          },
          "execution_count": 52,
          "metadata": {},
          "output_type": "execute_result"
        }
      ],
      "source": [
        "smp.integrate(x*(1-x**2)**smp.Rational(1/4), x)"
      ]
    },
    {
      "cell_type": "markdown",
      "metadata": {
        "id": "5FQh3OgE2DQI"
      },
      "source": [
        "$$ \\int \\frac{(2x-1)\\cos(\\sqrt{3(2x-1)^2+6})}{\\sqrt{3(2x-1)^2+6}} dx $$"
      ]
    },
    {
      "cell_type": "code",
      "execution_count": null,
      "metadata": {
        "id": "Xw_yYFWh2DQJ",
        "outputId": "b4ffe190-8612-46b6-c9a6-0108a72a7251"
      },
      "outputs": [
        {
          "data": {
            "text/latex": [
              "$\\displaystyle \\frac{\\sin{\\left(\\sqrt{3 \\left(2 x - 1\\right)^{2} + 6} \\right)}}{6}$"
            ],
            "text/plain": [
              "sin(sqrt(3*(2*x - 1)**2 + 6))/6"
            ]
          },
          "execution_count": 55,
          "metadata": {},
          "output_type": "execute_result"
        }
      ],
      "source": [
        "smp.integrate((2*x -1)*smp.cos(smp.sqrt(3*(2*x-1)**2 + 6)) / smp.sqrt(3*(2*x-1)**2 + 6), x)"
      ]
    },
    {
      "cell_type": "markdown",
      "metadata": {
        "id": "CyM6vKtt2DQP"
      },
      "source": [
        "# Definite Integrals"
      ]
    },
    {
      "cell_type": "markdown",
      "metadata": {
        "id": "Cu4IvskP2DQP"
      },
      "source": [
        "$$\\int_{0}^{\\ln(4)}\\frac{e^x dt}{\\sqrt{e^{2x}+9}} $$"
      ]
    },
    {
      "cell_type": "code",
      "execution_count": null,
      "metadata": {
        "id": "5u_41lyl2DQP",
        "outputId": "110f8a60-5742-4f34-c9cd-0cf1d43ce4ae"
      },
      "outputs": [
        {
          "data": {
            "text/latex": [
              "$\\displaystyle - \\operatorname{asinh}{\\left(\\frac{1}{3} \\right)} + \\operatorname{asinh}{\\left(\\frac{4}{3} \\right)}$"
            ],
            "text/plain": [
              "-asinh(1/3) + asinh(4/3)"
            ]
          },
          "execution_count": 57,
          "metadata": {},
          "output_type": "execute_result"
        }
      ],
      "source": [
        "smp.integrate(smp.exp(x) / smp.sqrt(smp.exp(2*x) + 9), (x, 0, smp.log(4)))"
      ]
    },
    {
      "cell_type": "markdown",
      "metadata": {
        "id": "lJLkpsKF2DQP"
      },
      "source": [
        "$$\\int_1^t x^{10} e^x dx $$"
      ]
    },
    {
      "cell_type": "code",
      "execution_count": null,
      "metadata": {
        "id": "H2vgupLR2DQP"
      },
      "outputs": [],
      "source": [
        "t= smp.symbols('t')"
      ]
    },
    {
      "cell_type": "code",
      "execution_count": null,
      "metadata": {
        "id": "l2gYstwU2DQP",
        "outputId": "8d03a834-7ce6-49db-a653-aba046c36752"
      },
      "outputs": [
        {
          "data": {
            "text/latex": [
              "$\\displaystyle \\left(t^{10} - 10 t^{9} + 90 t^{8} - 720 t^{7} + 5040 t^{6} - 30240 t^{5} + 151200 t^{4} - 604800 t^{3} + 1814400 t^{2} - 3628800 t + 3628800\\right) e^{t} - 1334961 e$"
            ],
            "text/plain": [
              "(t**10 - 10*t**9 + 90*t**8 - 720*t**7 + 5040*t**6 - 30240*t**5 + 151200*t**4 - 604800*t**3 + 1814400*t**2 - 3628800*t + 3628800)*exp(t) - 1334961*E"
            ]
          },
          "execution_count": 60,
          "metadata": {},
          "output_type": "execute_result"
        }
      ],
      "source": [
        "smp.integrate(x**10*smp.exp(x), (x, 1, t))"
      ]
    },
    {
      "cell_type": "markdown",
      "metadata": {
        "id": "u38iNDS22DQP"
      },
      "source": [
        "# Improper Integrals"
      ]
    },
    {
      "cell_type": "markdown",
      "metadata": {
        "id": "jKO8iIjU2DQP"
      },
      "source": [
        "$$ \\int_{0}^{\\infty} \\frac{16 \\tan^{-1}(x)}{1+x^2} dx $$"
      ]
    },
    {
      "cell_type": "code",
      "execution_count": null,
      "metadata": {
        "id": "KtAyuq_t2DQQ",
        "outputId": "391d7704-678e-4227-91ca-942b2d07eb9d"
      },
      "outputs": [
        {
          "data": {
            "text/latex": [
              "$\\displaystyle 2 \\pi^{2}$"
            ],
            "text/plain": [
              "2*pi**2"
            ]
          },
          "execution_count": 62,
          "metadata": {},
          "output_type": "execute_result"
        }
      ],
      "source": [
        "smp.integrate(16*smp.atan(x) / (1+x**2), (x, 0, smp.oo))"
      ]
    },
    {
      "cell_type": "markdown",
      "metadata": {
        "id": "xlYyv-yi2DQQ"
      },
      "source": [
        "# Sequences and Series"
      ]
    },
    {
      "cell_type": "code",
      "execution_count": null,
      "metadata": {
        "id": "g0wI4fOF2DQQ"
      },
      "outputs": [],
      "source": [
        "n = smp.symbols('n')"
      ]
    },
    {
      "cell_type": "markdown",
      "metadata": {
        "id": "aY05XPAD2DQQ"
      },
      "source": [
        "$$ \\sum_{n=0}^\\infty \\frac{6}{4^n} $$"
      ]
    },
    {
      "cell_type": "code",
      "execution_count": null,
      "metadata": {
        "id": "SGpvA9Di2DQQ",
        "outputId": "3b082162-342f-4101-de48-cf0d464cbd4b"
      },
      "outputs": [
        {
          "data": {
            "text/latex": [
              "$\\displaystyle 8$"
            ],
            "text/plain": [
              "8"
            ]
          },
          "execution_count": 66,
          "metadata": {},
          "output_type": "execute_result"
        }
      ],
      "source": [
        "smp.Sum(6/4**n, (n,0,smp.oo)).doit()"
      ]
    },
    {
      "cell_type": "markdown",
      "metadata": {
        "id": "sBBW3bvM2DQQ"
      },
      "source": [
        "$$ \\sum_{n=0}^\\infty \\frac{2^{n+1}}{5^n} $$"
      ]
    },
    {
      "cell_type": "code",
      "execution_count": null,
      "metadata": {
        "id": "9udclPP42DQQ",
        "outputId": "29bcbf1f-00e2-4b16-8e8a-12c4e14294ae"
      },
      "outputs": [
        {
          "data": {
            "text/latex": [
              "$\\displaystyle \\frac{10}{3}$"
            ],
            "text/plain": [
              "10/3"
            ]
          },
          "execution_count": 68,
          "metadata": {},
          "output_type": "execute_result"
        }
      ],
      "source": [
        "smp.Sum(2**(n+1) / 5**n, (n,0,smp.oo)).doit()"
      ]
    },
    {
      "cell_type": "markdown",
      "metadata": {
        "id": "9ktU13nS2DQQ"
      },
      "source": [
        "$$ \\sum_{n=1}^{\\infty} \\frac{\\tan^{-1}(n)}{n^{1.1}} $$"
      ]
    },
    {
      "cell_type": "code",
      "execution_count": null,
      "metadata": {
        "id": "4GVLZ7hd2DQQ",
        "outputId": "3ac54b40-1d00-49c3-aafd-5b551ba20dab"
      },
      "outputs": [
        {
          "data": {
            "text/latex": [
              "$\\displaystyle \\sum_{n=1}^{\\infty} \\frac{\\operatorname{atan}{\\left(n \\right)}}{n^{\\frac{11}{10}}}$"
            ],
            "text/plain": [
              "Sum(atan(n)/n**(11/10), (n, 1, oo))"
            ]
          },
          "execution_count": 73,
          "metadata": {},
          "output_type": "execute_result"
        }
      ],
      "source": [
        "smp.Sum(smp.atan(n)/n**smp.Rational(11,10), (n,1,smp.oo)).doit()"
      ]
    },
    {
      "cell_type": "markdown",
      "metadata": {
        "id": "Q3oQEOrl2DQR"
      },
      "source": [
        "$$ \\sum_{n=1}^\\infty \\frac{1 + \\cos(n)}{n^2}$$"
      ]
    },
    {
      "cell_type": "code",
      "execution_count": null,
      "metadata": {
        "id": "NNHAjM-y2DQR",
        "outputId": "9c245ee5-e9c8-4545-b913-5d95961d8c80"
      },
      "outputs": [
        {
          "data": {
            "text/latex": [
              "$\\displaystyle 1.969$"
            ],
            "text/plain": [
              "1.969"
            ]
          },
          "execution_count": 80,
          "metadata": {},
          "output_type": "execute_result"
        }
      ],
      "source": [
        "smp.Sum((1+smp.cos(n))/n**2, (n,1,smp.oo)).n()"
      ]
    },
    {
      "cell_type": "code",
      "execution_count": null,
      "metadata": {
        "id": "zt_Oiac02DQR"
      },
      "outputs": [],
      "source": []
    }
  ],
  "metadata": {
    "kernelspec": {
      "display_name": "Python 3",
      "language": "python",
      "name": "python3"
    },
    "language_info": {
      "codemirror_mode": {
        "name": "ipython",
        "version": 3
      },
      "file_extension": ".py",
      "mimetype": "text/x-python",
      "name": "python",
      "nbconvert_exporter": "python",
      "pygments_lexer": "ipython3",
      "version": "3.6.9"
    },
    "colab": {
      "provenance": [],
      "include_colab_link": true
    }
  },
  "nbformat": 4,
  "nbformat_minor": 0
}